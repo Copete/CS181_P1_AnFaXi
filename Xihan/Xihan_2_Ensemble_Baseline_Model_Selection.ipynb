{
 "cells": [
  {
   "cell_type": "markdown",
   "metadata": {},
   "source": [
    "# CS181_P1 Ensemble Baseline Model Selection"
   ]
  },
  {
   "cell_type": "code",
   "execution_count": 1,
   "metadata": {
    "collapsed": true
   },
   "outputs": [],
   "source": [
    "# import libraries\n",
    "import pandas as pd\n",
    "import numpy as np\n",
    "import matplotlib.pyplot as plt\n",
    "from sklearn.metrics import r2_score\n",
    "from sklearn.metrics import mean_squared_error\n",
    "from sklearn.model_selection import train_test_split\n",
    "from sklearn.model_selection import GridSearchCV"
   ]
  },
  {
   "cell_type": "markdown",
   "metadata": {},
   "source": [
    "## 1. read in and split pre-processed data"
   ]
  },
  {
   "cell_type": "code",
   "execution_count": 2,
   "metadata": {
    "collapsed": true
   },
   "outputs": [],
   "source": [
    "###############################################\n",
    "#       split test and training set           #\n",
    "###############################################\n",
    "# 1. read in the selected features\n",
    "X_train2 = np.loadtxt('X_train2')\n",
    "X_test2 = np.loadtxt('X_test2')\n",
    "Y_train = np.loadtxt('Y_train')"
   ]
  },
  {
   "cell_type": "code",
   "execution_count": 3,
   "metadata": {},
   "outputs": [
    {
     "name": "stdout",
     "output_type": "stream",
     "text": [
      "X_train2 before split:  (1000000, 31)\n",
      "X_test before split:  (824230, 31)\n",
      "Y_train before split:  (1000000,)\n"
     ]
    }
   ],
   "source": [
    "# see the shape of data\n",
    "print(\"X_train2 before split: \", X_train2.shape)\n",
    "print(\"X_test before split: \", X_test2.shape)\n",
    "print(\"Y_train before split: \", Y_train.shape)"
   ]
  },
  {
   "cell_type": "code",
   "execution_count": 4,
   "metadata": {
    "collapsed": true
   },
   "outputs": [],
   "source": [
    "# 2. split the training and test sets\n",
    "x_train, x_test, y_train, y_test = train_test_split(X_train2, Y_train, test_size=0.20)"
   ]
  },
  {
   "cell_type": "code",
   "execution_count": 5,
   "metadata": {},
   "outputs": [
    {
     "name": "stdout",
     "output_type": "stream",
     "text": [
      "shape of x_train:  (800000, 31)\n",
      "shape of x_test:  (200000, 31)\n",
      "shape of y_train:  (800000,)\n",
      "shape of y_test:  (200000,)\n"
     ]
    }
   ],
   "source": [
    "# see the shape of data after split:\n",
    "print(\"shape of x_train: \", x_train.shape)\n",
    "print(\"shape of x_test: \", x_test.shape)\n",
    "print(\"shape of y_train: \", y_train.shape)\n",
    "print(\"shape of y_test: \", y_test.shape)"
   ]
  },
  {
   "cell_type": "markdown",
   "metadata": {},
   "source": [
    "## 2. Baseline Ensemble Methods \n",
    "### 1. Bagging"
   ]
  },
  {
   "cell_type": "code",
   "execution_count": 6,
   "metadata": {
    "collapsed": true
   },
   "outputs": [],
   "source": [
    "###############################################\n",
    "#       Baseline Ensemble Methods             #\n",
    "###############################################\n",
    "# 1. Bagging\n",
    "# 1.1 fit the model\n",
    "from sklearn.ensemble import BaggingRegressor\n",
    "bag = BaggingRegressor().fit(x_train, y_train)"
   ]
  },
  {
   "cell_type": "code",
   "execution_count": 8,
   "metadata": {
    "scrolled": true
   },
   "outputs": [
    {
     "name": "stdout",
     "output_type": "stream",
     "text": [
      "R^2 for training set is:  0.554424514515\n",
      "R^2 for test set is:  0.551654713832\n",
      "MSE for training set is:  0.0738410750625\n",
      "MSE for test set is:  0.0744609201652\n"
     ]
    }
   ],
   "source": [
    "# 1.2 report R^2 for training and test\n",
    "bag_pred = bag.predict(x_test)\n",
    "print(\"R^2 for training set is: \", r2_score(y_train, bag.predict(x_train)))\n",
    "print(\"R^2 for test set is: \", r2_score(y_test, bag_pred))\n",
    "print(\"MSE for training set is: \", mean_squared_error(y_train, bag.predict(x_train)))\n",
    "print(\"MSE for test set is: \", mean_squared_error(y_test, bag_pred))"
   ]
  },
  {
   "cell_type": "markdown",
   "metadata": {},
   "source": [
    "### 2. Random Forest"
   ]
  },
  {
   "cell_type": "code",
   "execution_count": 9,
   "metadata": {
    "collapsed": true
   },
   "outputs": [],
   "source": [
    "# 2.Random Forest\n",
    "# 2.1 fit the model\n",
    "from sklearn.ensemble import RandomForestRegressor\n",
    "RF = RandomForestRegressor().fit(x_train, y_train)\n",
    "RF_pred = RF.predict(x_test)"
   ]
  },
  {
   "cell_type": "code",
   "execution_count": 10,
   "metadata": {},
   "outputs": [
    {
     "name": "stdout",
     "output_type": "stream",
     "text": [
      "R^2 for training set is:  0.554428569906\n",
      "R^2 for test set is:  0.551673925462\n",
      "MSE for training set is:  0.0738404030003\n",
      "MSE for test set is:  0.0744577295091\n"
     ]
    }
   ],
   "source": [
    "# 2.2 report R^2 for training and test\n",
    "print(\"R^2 for training set is: \", r2_score(y_train, RF.predict(x_train)))\n",
    "print(\"R^2 for test set is: \", r2_score(y_test, RF_pred))\n",
    "print(\"MSE for training set is: \", mean_squared_error(y_train, RF.predict(x_train)))\n",
    "print(\"MSE for test set is: \", mean_squared_error(y_test, RF_pred))"
   ]
  },
  {
   "cell_type": "markdown",
   "metadata": {},
   "source": [
    "### 3. Extremely Randomized Trees"
   ]
  },
  {
   "cell_type": "code",
   "execution_count": 11,
   "metadata": {
    "collapsed": true
   },
   "outputs": [],
   "source": [
    "# 3. Extremely Randomized Trees\n",
    "# 3.1 fit the model\n",
    "from sklearn.ensemble import ExtraTreesRegressor\n",
    "ET = ExtraTreesRegressor().fit(x_train, y_train)\n",
    "ET_pred = ET.predict(x_test)"
   ]
  },
  {
   "cell_type": "code",
   "execution_count": 12,
   "metadata": {},
   "outputs": [
    {
     "name": "stdout",
     "output_type": "stream",
     "text": [
      "R^2 for training set is:  0.554567736433\n",
      "R^2 for test set is:  0.551733192675\n",
      "MSE for training set is:  0.073817340228\n",
      "MSE for test set is:  0.0744478864454\n"
     ]
    }
   ],
   "source": [
    "# 3.2 report R^2 for training and test\n",
    "print(\"R^2 for training set is: \", r2_score(y_train, ET.predict(x_train)))\n",
    "print(\"R^2 for test set is: \", r2_score(y_test, ET.predict(x_test)))\n",
    "print(\"MSE for training set is: \", mean_squared_error(y_train, ET.predict(x_train)))\n",
    "print(\"MSE for test set is: \", mean_squared_error(y_test, ET_pred))"
   ]
  },
  {
   "cell_type": "markdown",
   "metadata": {},
   "source": [
    "### 4. AdaBoost"
   ]
  },
  {
   "cell_type": "code",
   "execution_count": 13,
   "metadata": {
    "collapsed": true
   },
   "outputs": [],
   "source": [
    "# 4. AdaBoost\n",
    "# 4.1 fit the model\n",
    "from sklearn.ensemble import AdaBoostRegressor\n",
    "Ada = AdaBoostRegressor().fit(x_train, y_train)\n",
    "Ada_pred = Ada.predict(x_test)"
   ]
  },
  {
   "cell_type": "code",
   "execution_count": 14,
   "metadata": {
    "scrolled": false
   },
   "outputs": [
    {
     "name": "stdout",
     "output_type": "stream",
     "text": [
      "R^2 for training set is:  0.383773996555\n",
      "R^2 for test set is:  0.382259243271\n",
      "MSE for training set is:  0.102121395943\n",
      "MSE for test set is:  0.102594019807\n"
     ]
    }
   ],
   "source": [
    "# 4.2 report R^2 for training and test\n",
    "print(\"R^2 for training set is: \", r2_score(y_train, Ada.predict(x_train)))\n",
    "print(\"R^2 for test set is: \", r2_score(y_test, Ada.predict(x_test)))\n",
    "print(\"MSE for training set is: \", mean_squared_error(y_train, Ada.predict(x_train)))\n",
    "print(\"MSE for test set is: \", mean_squared_error(y_test, Ada_pred))"
   ]
  },
  {
   "cell_type": "code",
   "execution_count": 18,
   "metadata": {
    "collapsed": true
   },
   "outputs": [],
   "source": [
    "Ada_MSE = mean_squared_error(y_test, Ada_pred)\n",
    "ET_MSE = mean_squared_error(y_test, ET_pred)\n",
    "RF_MSE = mean_squared_error(y_test, RF_pred)\n",
    "bag_MSE = mean_squared_error(y_test, bag_pred)"
   ]
  },
  {
   "cell_type": "code",
   "execution_count": 23,
   "metadata": {},
   "outputs": [
    {
     "data": {
      "image/png": "[encoded data removed]",
      "text/plain": [
       "<matplotlib.figure.Figure at 0x1192af2b0>"
      ]
     },
     "metadata": {},
     "output_type": "display_data"
    }
   ],
   "source": [
    "D = {\"bag_MSE\":bag_MSE, \"RF_MSE\": RF_MSE, \"ET_MSE\":ET_MSE, \"Ada_MSE\":Ada_MSE}\n",
    "plt.bar(range(len(D)), D.values(), align='center')\n",
    "plt.xticks(range(len(D)), D.keys())\n",
    "plt.xlabel(\"The 4 Tree-based Ensemble Models\")\n",
    "plt.ylabel(\"Mean Square Error\")\n",
    "plt.title(\"Bar Plot of the 4 Baseline Tree-based Ensemble Methods\")\n",
    "plt.savefig('MSE_ensemble.png')\n",
    "plt.show()\n"
   ]
  },
  {
   "cell_type": "markdown",
   "metadata": {},
   "source": [
    "### 5. Gradient Tree Boosting"
   ]
  },
  {
   "cell_type": "code",
   "execution_count": 19,
   "metadata": {
    "collapsed": true
   },
   "outputs": [],
   "source": [
    "# 5. Gradient Tree Boosting\n",
    "# 5.1 fit the model\n",
    "#from sklearn.ensemble import GradientBoostingRegressor\n",
    "#GTB = GradientBoostingRegressor().fit(x_train, y_train)"
   ]
  },
  {
   "cell_type": "code",
   "execution_count": 20,
   "metadata": {
    "scrolled": true
   },
   "outputs": [
    {
     "name": "stdout",
     "output_type": "stream",
     "text": [
      "R^2 for training set is:  0.505637822076\n",
      "R^2 for test set is:  0.506624832132\n"
     ]
    }
   ],
   "source": [
    "# 5.2 report R^2 for training and test\n",
    "#print(\"R^2 for training set is: \", r2_score(y_train, GTB.predict(x_train)))\n",
    "#print(\"R^2 for test set is: \", r2_score(y_test, GTB.predict(x_test)))"
   ]
  },
  {
   "cell_type": "markdown",
   "metadata": {},
   "source": [
    "### 6. SVM(abolished)"
   ]
  },
  {
   "cell_type": "code",
   "execution_count": null,
   "metadata": {
    "collapsed": true
   },
   "outputs": [],
   "source": [
    "#clf = svm.SVR().fit(X_train2, Y_train)"
   ]
  },
  {
   "cell_type": "code",
   "execution_count": null,
   "metadata": {
    "collapsed": true
   },
   "outputs": [],
   "source": [
    "#r2_score(Y_train, clf.predict(X_train2))"
   ]
  },
  {
   "cell_type": "markdown",
   "metadata": {},
   "source": [
    "### R^2 of the split test set:\n",
    "**Extremely Randomized Trees > Bagging > Random Forest > Gradient Tree Boosting >> AdaBoost**\n",
    "\n",
    "Thus, next step, we just tune: Random Forest (Extremely Randomized Trees can be better, it time allowed)"
   ]
  },
  {
   "cell_type": "markdown",
   "metadata": {},
   "source": [
    "## 3. Generate Prediciton on Test"
   ]
  },
  {
   "cell_type": "code",
   "execution_count": 26,
   "metadata": {
    "collapsed": true
   },
   "outputs": [],
   "source": [
    "# function to generate prediciton on test set\n",
    "def write_to_file(filename, predictions):\n",
    "    with open(filename, \"w\") as f:\n",
    "        f.write(\"Id,Prediction\\n\")\n",
    "        for i,p in enumerate(predictions):\n",
    "            f.write(str(i+1) + \",\" + str(p) + \"\\n\")"
   ]
  },
  {
   "cell_type": "code",
   "execution_count": 27,
   "metadata": {
    "collapsed": true
   },
   "outputs": [],
   "source": [
    "ET_pred = ET.predict(X_test2)\n",
    "write_to_file(\"ET.csv\", ET_pred)\n",
    "# Final Score from Camelot: 0.27215"
   ]
  },
  {
   "cell_type": "code",
   "execution_count": 31,
   "metadata": {
    "collapsed": true
   },
   "outputs": [],
   "source": [
    "bag_pred = bag.predict(X_test2)\n",
    "write_to_file(\"bag.csv\", bag_pred)\n",
    "# Final Score from Camelot: 0.27218"
   ]
  },
  {
   "cell_type": "code",
   "execution_count": 32,
   "metadata": {
    "collapsed": true
   },
   "outputs": [],
   "source": [
    "RF_pred = RF.predict(X_test2)\n",
    "write_to_file(\"RF.csv\", RF_pred)\n",
    "# Final Score from Camelot: 0.27217"
   ]
  },
  {
   "cell_type": "code",
   "execution_count": 33,
   "metadata": {
    "collapsed": true
   },
   "outputs": [],
   "source": [
    "GTB_pred = GTB.predict(X_test2)\n",
    "write_to_file(\"GTB.csv\", GTB_pred)\n",
    "# Final Score from Camelot: 0.28571"
   ]
  },
  {
   "cell_type": "markdown",
   "metadata": {},
   "source": [
    "### R^2 of Camelot\n",
    "**Extremely Randomized Trees > Random Forest > Bagging > Gradient Tree Boosting**"
   ]
  }
 ],
 "metadata": {
  "kernelspec": {
   "display_name": "Python 3",
   "language": "python",
   "name": "python3"
  },
  "language_info": {
   "codemirror_mode": {
    "name": "ipython",
    "version": 3
   },
   "file_extension": ".py",
   "mimetype": "text/x-python",
   "name": "python",
   "nbconvert_exporter": "python",
   "pygments_lexer": "ipython3",
   "version": "3.6.1"
  }
 },
 "nbformat": 4,
 "nbformat_minor": 2
}
